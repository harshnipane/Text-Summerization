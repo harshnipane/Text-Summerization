{
 "cells": [
  {
   "cell_type": "code",
   "execution_count": 1,
   "metadata": {},
   "outputs": [],
   "source": [
    "import re\n",
    "import nltk\n",
    "import sys\n",
    "import csv\n",
    "import heapq"
   ]
  },
  {
   "cell_type": "code",
   "execution_count": null,
   "metadata": {},
   "outputs": [],
   "source": [
    "from flask import Flask, request, render_template\n",
    "app = Flask(__name__)\n",
    "\n",
    "\n",
    "@app.route(\"/\")\n",
    "def home():\n",
    "    return render_template('summary.html')\n",
    "\n",
    "@app.route('/get_text', methods=['POST'])\n",
    "\n",
    "def get_text():\n",
    "    output = request.form.to_dict()\n",
    "    text = output[\"text1\"]\n",
    "    article_text = re.sub(r'\\[[0-9]*\\]', ' ', text)\n",
    "    article_text = re.sub(r'\\s+', ' ', article_text)\n",
    "    format_article_text = re.sub('[^a-zA-Z]', ' ', article_text )\n",
    "    format_article_text = re.sub(r'\\s+', ' ', format_article_text)\n",
    "    sentence_list = nltk.sent_tokenize(article_text)\n",
    "    word_freq = {}\n",
    "    for word in nltk.word_tokenize(format_article_text):\n",
    "        if word not in stopwords:\n",
    "            if word not in word_freq.keys():\n",
    "                word_freq[word] = 1\n",
    "            else:\n",
    "                word_freq[word] +=1\n",
    "    max_freq = max(word_freq.values())\n",
    "    for word in word_freq.keys():\n",
    "        word_freq[word] = (word_freq[word]/max_freq)\n",
    "    sentence_scores = {}\n",
    "    for sent in sentence_list:\n",
    "        for word in nltk.word_tokenize(sent.lower()):\n",
    "            if word in word_freq.keys():\n",
    "                if len(sent.split(' ')) < 30:\n",
    "                    if sent not in sentence_scores.keys():\n",
    "                        sentence_scores[sent] = word_freq[word]\n",
    "                    else:\n",
    "                        sentence_scores[sent] += word_freq[word]\n",
    "    summary_sentences = heapq.nlargest(10, sentence_scores, key=sentence_scores.get)\n",
    "\n",
    "    summary = ' '.join(summary_sentences)                    \n",
    "    \n",
    "    return render_template('summary.html',summ=summary,inputt=artical_text)\n",
    "    \n",
    "    \n",
    "if __name__ == '__main__':\n",
    "    app.run(debug = True,use_reloader=False)"
   ]
  }
 ],
 "metadata": {
  "kernelspec": {
   "display_name": "Python 3",
   "language": "python",
   "name": "python3"
  },
  "language_info": {
   "codemirror_mode": {
    "name": "ipython",
    "version": 3
   },
   "file_extension": ".py",
   "mimetype": "text/x-python",
   "name": "python",
   "nbconvert_exporter": "python",
   "pygments_lexer": "ipython3",
   "version": "3.6.5"
  }
 },
 "nbformat": 4,
 "nbformat_minor": 2
}
